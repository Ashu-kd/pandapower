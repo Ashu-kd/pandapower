{
 "cells": [
  {
   "cell_type": "code",
   "execution_count": 1,
   "id": "3711d0f7-2d00-48a1-971d-f91f1e2009b6",
   "metadata": {},
   "outputs": [
    {
     "name": "stderr",
     "output_type": "stream",
     "text": [
      "C:\\ProgramData\\anaconda3\\Lib\\site-packages\\paramiko\\pkey.py:82: CryptographyDeprecationWarning: TripleDES has been moved to cryptography.hazmat.decrepit.ciphers.algorithms.TripleDES and will be removed from this module in 48.0.0.\n",
      "  \"cipher\": algorithms.TripleDES,\n",
      "C:\\ProgramData\\anaconda3\\Lib\\site-packages\\paramiko\\transport.py:219: CryptographyDeprecationWarning: Blowfish has been moved to cryptography.hazmat.decrepit.ciphers.algorithms.Blowfish and will be removed from this module in 45.0.0.\n",
      "  \"class\": algorithms.Blowfish,\n",
      "C:\\ProgramData\\anaconda3\\Lib\\site-packages\\paramiko\\transport.py:243: CryptographyDeprecationWarning: TripleDES has been moved to cryptography.hazmat.decrepit.ciphers.algorithms.TripleDES and will be removed from this module in 48.0.0.\n",
      "  \"class\": algorithms.TripleDES,\n"
     ]
    }
   ],
   "source": [
    "import pypsa\n",
    "import numpy as np\n",
    "import matplotlib.pyplot as plt\n",
    "\n",
    "network = pypsa.Network()"
   ]
  },
  {
   "cell_type": "code",
   "execution_count": 2,
   "id": "4db595af-41ae-4e50-8f10-b67c1ca6ecac",
   "metadata": {},
   "outputs": [
    {
     "data": {
      "text/plain": [
       "Index(['bus 1'], dtype='object')"
      ]
     },
     "execution_count": 2,
     "metadata": {},
     "output_type": "execute_result"
    }
   ],
   "source": [
    "network.add(\"Bus\",\n",
    "            name=\"bus 1\",\n",
    "            v_nom=10.0,        # Nominal voltage in kV (optional, default is 1.0)\n",
    "            x=0.0,              # x-coordinate for plotting (optional)\n",
    "            y=0.0,              # y-coordinate for plotting (optional)\n",
    "            carrier=\"AC\"        # Type of network (optional, e.g., \"AC\", \"DC\")\n",
    ")"
   ]
  },
  {
   "cell_type": "code",
   "execution_count": 3,
   "id": "030eda80-f8f4-4ffd-b255-2221354e898c",
   "metadata": {},
   "outputs": [
    {
     "data": {
      "text/plain": [
       "Index(['bus 2'], dtype='object')"
      ]
     },
     "execution_count": 3,
     "metadata": {},
     "output_type": "execute_result"
    }
   ],
   "source": [
    "network.add(\"Bus\",\n",
    "            name=\"bus 2\",\n",
    "            v_nom=10.0,        # Nominal voltage in kV (optional, default is 1.0)\n",
    "            x=0.0,              # x-coordinate for plotting (optional)\n",
    "            y=0.0,              # y-coordinate for plotting (optional)\n",
    "            carrier=\"AC\"        # Type of network (optional, e.g., \"AC\", \"DC\")\n",
    ")"
   ]
  },
  {
   "cell_type": "code",
   "execution_count": 4,
   "id": "183f79ca-6ea2-4d87-a3cd-2f4be4d9b375",
   "metadata": {},
   "outputs": [
    {
     "data": {
      "text/plain": [
       "Index(['bus 3'], dtype='object')"
      ]
     },
     "execution_count": 4,
     "metadata": {},
     "output_type": "execute_result"
    }
   ],
   "source": [
    "network.add(\"Bus\",\n",
    "            name=\"bus 3\",\n",
    "            v_nom=10.0,        # Nominal voltage in kV (optional, default is 1.0)\n",
    "            x=0.0,              # x-coordinate for plotting (optional)\n",
    "            y=0.0,              # y-coordinate for plotting (optional)\n",
    "            carrier=\"AC\"        # Type of network (optional, e.g., \"AC\", \"DC\")\n",
    ")"
   ]
  },
  {
   "cell_type": "code",
   "execution_count": 5,
   "id": "f939d087-a0d5-4efe-aa1a-0f845f52adec",
   "metadata": {},
   "outputs": [
    {
     "data": {
      "text/plain": [
       "Index(['line 1-2'], dtype='object')"
      ]
     },
     "execution_count": 5,
     "metadata": {},
     "output_type": "execute_result"
    }
   ],
   "source": [
    "network.add(\"Line\",\n",
    "            name=\"line 1-2\",\n",
    "            bus0=\"bus 1\",\n",
    "            bus1=\"bus 2\",\n",
    "            x=0.04,\n",
    "            r=0.02,\n",
    "            length=1.0,  # Optional, default is 1.0\n",
    "            s_nom=100  # Optional, nominal power rating\n",
    ")"
   ]
  },
  {
   "cell_type": "code",
   "execution_count": 6,
   "id": "f5a7de4c-58f2-47ab-9de4-118eff664521",
   "metadata": {},
   "outputs": [
    {
     "data": {
      "text/plain": [
       "Index(['line 2-3'], dtype='object')"
      ]
     },
     "execution_count": 6,
     "metadata": {},
     "output_type": "execute_result"
    }
   ],
   "source": [
    "network.add(\"Line\",\n",
    "            name=\"line 2-3\",\n",
    "            bus0=\"bus 2\",\n",
    "            bus1=\"bus 3\",\n",
    "            x=0.025,\n",
    "            r=0.0125,\n",
    "            length=1.0,  # Optional, default is 1.0\n",
    "            s_nom=100  # Optional, nominal power rating\n",
    ")"
   ]
  },
  {
   "cell_type": "code",
   "execution_count": 7,
   "id": "ed4944e5-e1ee-4394-98f1-3e53cf1074b9",
   "metadata": {},
   "outputs": [
    {
     "data": {
      "text/plain": [
       "Index(['line 3-1'], dtype='object')"
      ]
     },
     "execution_count": 7,
     "metadata": {},
     "output_type": "execute_result"
    }
   ],
   "source": [
    "network.add(\"Line\",\n",
    "            name=\"line 3-1\",\n",
    "            bus0=\"bus 1\",\n",
    "            bus1=\"bus 3\",\n",
    "            x=0.030,\n",
    "            r=0.01,\n",
    "            length=1.0,  # Optional, default is 1.0\n",
    "            s_nom=100  # Optional, nominal power rating\n",
    ")"
   ]
  },
  {
   "cell_type": "code",
   "execution_count": 8,
   "id": "68f81a0d-1c91-4a08-9f58-51931dc9d595",
   "metadata": {},
   "outputs": [
    {
     "data": {
      "text/plain": [
       "Index(['slack_generator'], dtype='object')"
      ]
     },
     "execution_count": 8,
     "metadata": {},
     "output_type": "execute_result"
    }
   ],
   "source": [
    "network.add(\"Generator\",\n",
    "            name=\"slack_generator\",\n",
    "            bus=\"bus 1\",\n",
    "            control=\"Slack\",\n",
    "            p_set=0,\n",
    "            v_nom=10.0)"
   ]
  },
  {
   "cell_type": "code",
   "execution_count": 9,
   "id": "a5377201-eedd-406f-9648-bf1fd42f2943",
   "metadata": {},
   "outputs": [
    {
     "data": {
      "text/plain": [
       "Index(['PQ_generator'], dtype='object')"
      ]
     },
     "execution_count": 9,
     "metadata": {},
     "output_type": "execute_result"
    }
   ],
   "source": [
    "network.add(\"Generator\",\n",
    "            name=\"PQ_generator\",\n",
    "            bus=\"bus 3\",\n",
    "            control=\"Slack\",\n",
    "            p_set=200,\n",
    "            v_nom=10.0)"
   ]
  },
  {
   "cell_type": "code",
   "execution_count": 10,
   "id": "c6b5295a-4f96-45cd-921b-da60e5719fb3",
   "metadata": {},
   "outputs": [
    {
     "data": {
      "text/plain": [
       "Index(['load '], dtype='object')"
      ]
     },
     "execution_count": 10,
     "metadata": {},
     "output_type": "execute_result"
    }
   ],
   "source": [
    "network.add(\"Load\",\n",
    "            name=\"load \",\n",
    "            bus=\"bus 2\",\n",
    "            p_set=400,      # 50 MW active power consumption\n",
    "            q_set=250)  "
   ]
  },
  {
   "cell_type": "code",
   "execution_count": 11,
   "id": "cbc918f3-a968-4e5d-916e-e5b13b39d63d",
   "metadata": {},
   "outputs": [
    {
     "name": "stderr",
     "output_type": "stream",
     "text": [
      "INFO:pypsa.pf:Performing non-linear load-flow on AC sub-network <pypsa.networks.SubNetwork object at 0x000001D4F19D3680> for snapshots Index(['now'], dtype='object', name='snapshot')\n",
      "C:\\Users\\ashut\\AppData\\Local\\Temp\\ipykernel_32128\\3134191647.py:10: DeprecatedWarning:\n",
      "\n",
      "plot is deprecated. Use `n.plot.map()` as a drop-in replacement instead.\n",
      "\n",
      "WARNING:pypsa.plot.maps:Cartopy is not available. Falling back to non-geographic plotting.\n",
      "WARNING:pypsa.plot.maps:Cartopy needs to be installed to use `geomap=True`.\n"
     ]
    },
    {
     "name": "stdout",
     "output_type": "stream",
     "text": [
      "Bus       bus 1     bus 2     bus 3\n",
      "snapshot                           \n",
      "now         0.0 -0.054477 -0.014093\n",
      "Bus       bus 1     bus 2  bus 3\n",
      "snapshot                        \n",
      "now         1.0  0.924003    1.0\n",
      "            line 1-2   line 2-3   line 3-1\n",
      "snapshot                                  \n",
      "now       177.991723 -230.52536  42.375658\n",
      "Generator  slack_generator  PQ_generator\n",
      "snapshot                                \n",
      "now             220.367381         200.0\n"
     ]
    },
    {
     "data": {
      "image/png": "[encoded data removed]",
      "text/plain": [
       "<Figure size 800x600 with 1 Axes>"
      ]
     },
     "metadata": {},
     "output_type": "display_data"
    }
   ],
   "source": [
    "network.pf()\n",
    "\n",
    "# Display results\n",
    "print(network.buses_t.v_ang)  # Bus voltage angles\n",
    "print(network.buses_t.v_mag_pu)  # Bus voltage magnitudes (in per unit)\n",
    "print(network.lines_t.p0)  # Active power flow on lines (from bus0 to bus1)\n",
    "print(network.generators_t.p)  # Generator power output\n",
    "\n",
    "fig, ax = plt.subplots(figsize=(8, 6))\n",
    "network.plot(ax=ax, line_colors='black', bus_sizes=0.05, line_widths=2.0)\n",
    "plt.title(\"Network Topology\")\n",
    "plt.show()"
   ]
  },
  {
   "cell_type": "code",
   "execution_count": null,
   "id": "1468fa2f-f2bc-49c1-b297-7b47669ffcc3",
   "metadata": {},
   "outputs": [],
   "source": []
  }
 ],
 "metadata": {
  "kernelspec": {
   "display_name": "Python [conda env:base] *",
   "language": "python",
   "name": "conda-base-py"
  },
  "language_info": {
   "codemirror_mode": {
    "name": "ipython",
    "version": 3
   },
   "file_extension": ".py",
   "mimetype": "text/x-python",
   "name": "python",
   "nbconvert_exporter": "python",
   "pygments_lexer": "ipython3",
   "version": "3.12.7"
  }
 },
 "nbformat": 4,
 "nbformat_minor": 5
}
