{
 "cells": [
  {
   "cell_type": "code",
   "execution_count": 1,
   "id": "8976a634-2cf2-4106-912f-b17c3cb068cf",
   "metadata": {},
   "outputs": [],
   "source": [
    "import pandapower as pp\n",
    "\n",
    "# Create a network with a specific frequency (e.g., 60 Hz)\n",
    "net = pp.create_empty_network()\n"
   ]
  },
  {
   "cell_type": "code",
   "execution_count": 2,
   "id": "12cacfc8-89bb-4f23-8007-0bd39ca0e4d8",
   "metadata": {},
   "outputs": [],
   "source": [
    "bus1 = pp.create_bus(net, name=\"bus 1\", vn_kv=10, type=\"b\")\n",
    "bus2 = pp.create_bus(net, name=\"bus 2\", vn_kv=10, type=\"b\")\n",
    "bus3 = pp.create_bus(net, name=\"bus 3\", vn_kv=10, type=\"b\")"
   ]
  },
  {
   "cell_type": "code",
   "execution_count": 3,
   "id": "46817352-41a4-4ede-8aa4-e7933f583e1b",
   "metadata": {},
   "outputs": [
    {
     "data": {
      "text/plain": [
       "0"
      ]
     },
     "execution_count": 3,
     "metadata": {},
     "output_type": "execute_result"
    }
   ],
   "source": [
    "pp.create_ext_grid(net, bus1, vm_pu=1.05, va_degree=0)"
   ]
  },
  {
   "cell_type": "code",
   "execution_count": 4,
   "id": "263c1903-f08e-4db4-8c58-f6567539c8f2",
   "metadata": {},
   "outputs": [
    {
     "data": {
      "text/plain": [
       "0"
      ]
     },
     "execution_count": 4,
     "metadata": {},
     "output_type": "execute_result"
    }
   ],
   "source": [
    "pp.create_load(net, bus=bus2, p_mw=400, q_mvar=250, name=\"Industrial Load\")"
   ]
  },
  {
   "cell_type": "code",
   "execution_count": 5,
   "id": "f90efde2-e34f-41bd-9aa9-85f2efdf67a1",
   "metadata": {},
   "outputs": [
    {
     "data": {
      "text/plain": [
       "0"
      ]
     },
     "execution_count": 5,
     "metadata": {},
     "output_type": "execute_result"
    }
   ],
   "source": [
    "pp.create_gen(net, bus=bus3, vm_pu=1.04, p_mw=200, va_degree=0)"
   ]
  },
  {
   "cell_type": "code",
   "execution_count": 6,
   "id": "fffefa29-eb79-42e2-90ff-e01c10168684",
   "metadata": {},
   "outputs": [
    {
     "data": {
      "text/plain": [
       "0"
      ]
     },
     "execution_count": 6,
     "metadata": {},
     "output_type": "execute_result"
    }
   ],
   "source": [
    "pp.create_line_from_parameters(\n",
    "    net, bus1, bus2, length_km=1, \n",
    "    r_ohm_per_km=0.02, x_ohm_per_km=0.04, \n",
    "    max_i_ka=0.9, c_nf_per_km= 0,name=\"Line 1-2 10 kV\"\n",
    ")"
   ]
  },
  {
   "cell_type": "code",
   "execution_count": 7,
   "id": "bf2939aa-14c1-4e15-8f84-0ceb8af1a57a",
   "metadata": {},
   "outputs": [
    {
     "data": {
      "text/plain": [
       "1"
      ]
     },
     "execution_count": 7,
     "metadata": {},
     "output_type": "execute_result"
    }
   ],
   "source": [
    "pp.create_line_from_parameters(\n",
    "    net, bus2, bus3, length_km=1, \n",
    "    r_ohm_per_km=0.0125, x_ohm_per_km=0.025, \n",
    "    max_i_ka=0.9, c_nf_per_km= 0,name=\"Line 2-3 10 kV\"\n",
    ")"
   ]
  },
  {
   "cell_type": "code",
   "execution_count": 8,
   "id": "bdccc0a0-97a5-4ae5-a503-80aff4dfdc18",
   "metadata": {},
   "outputs": [
    {
     "data": {
      "text/plain": [
       "2"
      ]
     },
     "execution_count": 8,
     "metadata": {},
     "output_type": "execute_result"
    }
   ],
   "source": [
    "pp.create_line_from_parameters(\n",
    "    net, bus1, bus3, length_km=1, \n",
    "    r_ohm_per_km=0.01, x_ohm_per_km=0.030015, \n",
    "    max_i_ka=0.9, c_nf_per_km= 0,name=\"Line 1-3 10 kV\"\n",
    ")"
   ]
  },
  {
   "cell_type": "code",
   "execution_count": 9,
   "id": "10c3d1c7-62be-411f-9873-ea1536233802",
   "metadata": {},
   "outputs": [
    {
     "name": "stdout",
     "output_type": "stream",
     "text": [
      "This pandapower network includes the following parameter tables:\n",
      "   - bus (3 elements)\n",
      "   - load (1 element)\n",
      "   - gen (1 element)\n",
      "   - ext_grid (1 element)\n",
      "   - line (3 elements)\n"
     ]
    }
   ],
   "source": [
    "print(net)"
   ]
  },
  {
   "cell_type": "code",
   "execution_count": 10,
   "id": "15338c1b-f549-44f4-8df5-1a219abf35a3",
   "metadata": {},
   "outputs": [
    {
     "name": "stdout",
     "output_type": "stream",
     "text": [
      "This pandapower network includes the following parameter tables:\n",
      "   - bus (3 elements)\n",
      "   - load (1 element)\n",
      "   - gen (1 element)\n",
      "   - ext_grid (1 element)\n",
      "   - line (3 elements)\n"
     ]
    }
   ],
   "source": [
    "print(net)"
   ]
  },
  {
   "cell_type": "code",
   "execution_count": 11,
   "id": "c5b4b55d-f36e-42ef-a097-683b952fa51e",
   "metadata": {},
   "outputs": [],
   "source": [
    "pp.runpp(net)"
   ]
  },
  {
   "cell_type": "code",
   "execution_count": 12,
   "id": "8e85f099-0063-4d28-ad7d-e6541161be82",
   "metadata": {},
   "outputs": [
    {
     "name": "stdout",
     "output_type": "stream",
     "text": [
      "     vm_pu  va_degree       p_mw      q_mvar\n",
      "0  1.05000   0.000000 -218.42281 -140.839992\n",
      "1  0.97168  -2.696615  400.00000  250.000000\n",
      "2  1.04000  -0.499064 -200.00000 -146.188587\n"
     ]
    }
   ],
   "source": [
    "print(net.res_bus)"
   ]
  },
  {
   "cell_type": "code",
   "execution_count": 13,
   "id": "9bd8bad7-cdf4-4122-ba7f-478f9ba34ef7",
   "metadata": {},
   "outputs": [
    {
     "name": "stdout",
     "output_type": "stream",
     "text": [
      "    p_from_mw  q_from_mvar     p_to_mw   q_to_mvar     pl_mw    ql_mvar  \\\n",
      "0  179.367643   118.731353 -170.974013 -101.944093  8.393630  16.787260   \n",
      "1 -229.025987  -148.055907  238.872482  167.748898  9.846495  19.692991   \n",
      "2   39.055167    22.108639  -38.872482  -21.560311  0.182685   0.548328   \n",
      "\n",
      "   i_from_ka    i_to_ka       i_ka  vm_from_pu  va_from_degree  vm_to_pu  \\\n",
      "0  11.827672  11.827672  11.827672     1.05000        0.000000   0.97168   \n",
      "1  16.204111  16.204111  16.204111     0.97168       -2.696615   1.04000   \n",
      "2   2.467689   2.467689   2.467689     1.05000        0.000000   1.04000   \n",
      "\n",
      "   va_to_degree  loading_percent  \n",
      "0     -2.696615      1314.185821  \n",
      "1     -0.499064      1800.456769  \n",
      "2     -0.499064       274.187630  \n"
     ]
    }
   ],
   "source": [
    "print(net.res_line)"
   ]
  },
  {
   "cell_type": "code",
   "execution_count": null,
   "id": "6cf93bcd-179b-43f5-96be-a5be82bcc13d",
   "metadata": {},
   "outputs": [],
   "source": []
  }
 ],
 "metadata": {
  "kernelspec": {
   "display_name": "Python [conda env:base] *",
   "language": "python",
   "name": "conda-base-py"
  },
  "language_info": {
   "codemirror_mode": {
    "name": "ipython",
    "version": 3
   },
   "file_extension": ".py",
   "mimetype": "text/x-python",
   "name": "python",
   "nbconvert_exporter": "python",
   "pygments_lexer": "ipython3",
   "version": "3.12.7"
  }
 },
 "nbformat": 4,
 "nbformat_minor": 5
}
